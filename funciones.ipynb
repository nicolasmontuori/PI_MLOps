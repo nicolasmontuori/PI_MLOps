{
 "cells": [
  {
   "cell_type": "code",
   "execution_count": 1,
   "metadata": {},
   "outputs": [],
   "source": [
    "# Importo las librerias a utilizar\n",
    "import pandas as pd \n",
    "import numpy as np"
   ]
  },
  {
   "cell_type": "code",
   "execution_count": 2,
   "metadata": {},
   "outputs": [],
   "source": [
    "#Realizo la ingesta del csv \"plat_score\" que utilizaremos para las consultas \n",
    "df=  pd.read_csv (\"C:/Users/Administrador/Desktop/Henry/Labs/Proyectosindividuales/PrimerPI/Datasets/plat_score.csv\")"
   ]
  },
  {
   "cell_type": "markdown",
   "metadata": {},
   "source": [
    "Consulta 1: Película con mayor duración con filtros opcionales de AÑO, PLATAFORMA Y TIPO DE DURACIÓN. (la función debe llamarse get_max_duration(year, platform, duration_type))"
   ]
  },
  {
   "cell_type": "code",
   "execution_count": 3,
   "metadata": {},
   "outputs": [],
   "source": [
    "def get_max_duration(year: int, platform: str, duration_type: str):\n",
    "    filtro_year = df.loc[ df['release_year'] == year ] # Aplicamos filtro por año\n",
    "    filtro_plataforma = filtro_year.loc[ filtro_year[\"plataforma\"] == platform ] # Aplicamos filtro por plataforma\n",
    "    filtro_tipo_duracion = filtro_plataforma.loc[ filtro_plataforma['duration_type'] == duration_type ] # Aplicamos filtro tipo de duracion\n",
    "\n",
    "    max_duracion = filtro_tipo_duracion.loc[ filtro_tipo_duracion['duration_int'] == filtro_tipo_duracion['duration_int'].max() ]\n",
    "    \n",
    "    movie_max_duracion = max_duracion['title']\n",
    "\n",
    "    return movie_max_duracion"
   ]
  },
  {
   "cell_type": "code",
   "execution_count": 4,
   "metadata": {},
   "outputs": [
    {
     "data": {
      "text/plain": [
       "16734    unbreakable kimmy schmidt: kimmy vs. the reverend\n",
       "Name: title, dtype: object"
      ]
     },
     "execution_count": 4,
     "metadata": {},
     "output_type": "execute_result"
    }
   ],
   "source": [
    "get_max_duration (2020, \"netflix\", \"min\")"
   ]
  },
  {
   "cell_type": "markdown",
   "metadata": {},
   "source": [
    "Consulta 2 : Cantidad de películas por plataforma con un puntaje mayor a XX en determinado año (la función debe llamarse get_score_count(platform, scored, year))"
   ]
  },
  {
   "cell_type": "code",
   "execution_count": 5,
   "metadata": {},
   "outputs": [],
   "source": [
    "def get_score_count(platform:str, scored:float, year:int):\n",
    "    df = pd.read_csv (\"C:/Users/Administrador/Desktop/Henry/Labs/Proyectosindividuales/PrimerPI/Datasets/plat_score.csv\")\n",
    "    df_filtro = df[(df[\"score\"] > scored ) & (df[\"release_year\"] == year)]  # Aplico filtro por score y año\n",
    "    if platform == \"netflix\":\n",
    "        df_gsc = df_filtro[(df_filtro[\"type\"] == \"movie\") & (df_filtro[\"id\"].str.findall(\"n\"))]  # Aplico filtros por type y id.\n",
    "    elif platform == \"amazon\":\n",
    "        df_gsc = df_filtro[(df_filtro[\"type\"] == \"movie\") & (df_filtro[\"id\"].str.findall(\"a\"))]\n",
    "    elif platform == \"hulu\":\n",
    "        df_gsc = df_filtro[(df_filtro[\"type\"] == \"movie\") & (df_filtro[\"id\"].str.findall(\"h\"))]\n",
    "    elif platform == \"disney\":\n",
    "        df_gsc = df_filtro[(df_filtro[\"type\"] == \"movie\") & (df_filtro[\"id\"].str.findall(\"d\"))]\n",
    "    else:\n",
    "        print(\"Try again\")\n",
    "\n",
    "    return f'Peliculas de {platform} del año {year} con puntaje {scored}: {df_gsc.shape[0]}'\n"
   ]
  },
  {
   "cell_type": "code",
   "execution_count": 6,
   "metadata": {},
   "outputs": [
    {
     "data": {
      "text/plain": [
       "'Peliculas de netflix del año 2020 con puntaje 3.5: 393'"
      ]
     },
     "execution_count": 6,
     "metadata": {},
     "output_type": "execute_result"
    }
   ],
   "source": [
    "# Pruebo que la función trabaje correctamente\n",
    "get_score_count(\"netflix\", 3.5, 2020)"
   ]
  },
  {
   "cell_type": "markdown",
   "metadata": {},
   "source": [
    "Consulta 3: Cantidad de películas por plataforma con filtro de PLATAFORMA. (La función debe llamarse get_count_platform(platform))"
   ]
  },
  {
   "cell_type": "code",
   "execution_count": 7,
   "metadata": {},
   "outputs": [],
   "source": [
    "def get_count_platform(platform: str):\n",
    "      df = pd.read_csv (\"C:/Users/Administrador/Desktop/Henry/Labs/Proyectosindividuales/PrimerPI/Datasets/plat_score.csv\")\n",
    "      filtro = df [\"plataforma\"] == platform # Aplico filtro por plataformas\n",
    "      count_platform = df [filtro] [\"type\"].value_counts() # Cuento la cantidad de películas por plataformas\n",
    "\n",
    "      return {\"plataforma\": platform,\n",
    "              \"Movies\": str (count_platform[0])}"
   ]
  },
  {
   "cell_type": "code",
   "execution_count": 8,
   "metadata": {},
   "outputs": [
    {
     "data": {
      "text/plain": [
       "{'plataforma': 'amazon', 'Movies': '7814'}"
      ]
     },
     "execution_count": 8,
     "metadata": {},
     "output_type": "execute_result"
    }
   ],
   "source": [
    "# Pruebo que la función trabaje correctamente\n",
    "get_count_platform (\"amazon\")"
   ]
  },
  {
   "cell_type": "markdown",
   "metadata": {},
   "source": [
    "Consulta 4: Actor que más se repite según plataforma y año. (La función debe llamarse get_actor(platform, year))"
   ]
  },
  {
   "cell_type": "code",
   "execution_count": 9,
   "metadata": {},
   "outputs": [],
   "source": [
    "def get_actor(platform: str, year: int):\n",
    " df = pd.read_csv (\"C:/Users/Administrador/Desktop/Henry/Labs/Proyectosindividuales/PrimerPI/Datasets/plat_score.csv\")\n",
    " filtro = (df[\"plataforma\"] == platform) & (df[\"release_year\"] == year) # Aplico filtro por plataforma y por año\n",
    " df_filtrado = df.loc[filtro]\n",
    "    \n",
    " actores = df_filtrado[\"cast\"].str.split(\",\").explode() # Separo la columna \"cast\" de actores en filas distintas a partir de la coma \",\"\n",
    "    \n",
    " count_actores = actores.value_counts() # cuento la cantidad de actores\n",
    "    \n",
    " actor_mas_comun = count_actores.index[0] # retorno el actor que mas se repite\n",
    " return actor_mas_comun"
   ]
  },
  {
   "cell_type": "code",
   "execution_count": 12,
   "metadata": {},
   "outputs": [
    {
     "data": {
      "text/plain": [
       "' andrea libman'"
      ]
     },
     "execution_count": 12,
     "metadata": {},
     "output_type": "execute_result"
    }
   ],
   "source": [
    "get_actor(\"netflix\", 2018)"
   ]
  }
 ],
 "metadata": {
  "kernelspec": {
   "display_name": "Python 3.11.1 64-bit",
   "language": "python",
   "name": "python3"
  },
  "language_info": {
   "codemirror_mode": {
    "name": "ipython",
    "version": 3
   },
   "file_extension": ".py",
   "mimetype": "text/x-python",
   "name": "python",
   "nbconvert_exporter": "python",
   "pygments_lexer": "ipython3",
   "version": "3.11.1"
  },
  "orig_nbformat": 4,
  "vscode": {
   "interpreter": {
    "hash": "c904bd87413170da76a9f53115cf6340fbe80dab715b9d9be2cd45de1b24f56d"
   }
  }
 },
 "nbformat": 4,
 "nbformat_minor": 2
}
